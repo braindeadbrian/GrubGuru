{
  "nbformat": 4,
  "nbformat_minor": 0,
  "metadata": {
    "colab": {
      "provenance": []
    },
    "kernelspec": {
      "name": "python3",
      "display_name": "Python 3"
    },
    "language_info": {
      "name": "python"
    }
  },
  "cells": [
    {
      "cell_type": "code",
      "execution_count": null,
      "metadata": {
        "colab": {
          "base_uri": "https://localhost:8080/"
        },
        "id": "qMFX73pjdXYV",
        "outputId": "3ddfcef9-7ff5-484b-a378-0dcc200503ff"
      },
      "outputs": [
        {
          "output_type": "stream",
          "name": "stdout",
          "text": [
            "Collecting sentence-transformers\n",
            "  Downloading sentence_transformers-2.7.0-py3-none-any.whl (171 kB)\n",
            "\u001b[?25l     \u001b[90m━━━━━━━━━━━━━━━━━━━━━━━━━━━━━━━━━━━━━━━━\u001b[0m \u001b[32m0.0/171.5 kB\u001b[0m \u001b[31m?\u001b[0m eta \u001b[36m-:--:--\u001b[0m\r\u001b[2K     \u001b[91m━━━━━━━━━━━━━━\u001b[0m\u001b[90m╺\u001b[0m\u001b[90m━━━━━━━━━━━━━━━━━━━━━━━━━\u001b[0m \u001b[32m61.4/171.5 kB\u001b[0m \u001b[31m1.7 MB/s\u001b[0m eta \u001b[36m0:00:01\u001b[0m\r\u001b[2K     \u001b[90m━━━━━━━━━━━━━━━━━━━━━━━━━━━━━━━━━━━━━━━━\u001b[0m \u001b[32m171.5/171.5 kB\u001b[0m \u001b[31m2.7 MB/s\u001b[0m eta \u001b[36m0:00:00\u001b[0m\n",
            "\u001b[?25hRequirement already satisfied: transformers<5.0.0,>=4.34.0 in /usr/local/lib/python3.10/dist-packages (from sentence-transformers) (4.40.0)\n",
            "Requirement already satisfied: tqdm in /usr/local/lib/python3.10/dist-packages (from sentence-transformers) (4.66.2)\n",
            "Requirement already satisfied: torch>=1.11.0 in /usr/local/lib/python3.10/dist-packages (from sentence-transformers) (2.2.1+cu121)\n",
            "Requirement already satisfied: numpy in /usr/local/lib/python3.10/dist-packages (from sentence-transformers) (1.25.2)\n",
            "Requirement already satisfied: scikit-learn in /usr/local/lib/python3.10/dist-packages (from sentence-transformers) (1.2.2)\n",
            "Requirement already satisfied: scipy in /usr/local/lib/python3.10/dist-packages (from sentence-transformers) (1.11.4)\n",
            "Requirement already satisfied: huggingface-hub>=0.15.1 in /usr/local/lib/python3.10/dist-packages (from sentence-transformers) (0.20.3)\n",
            "Requirement already satisfied: Pillow in /usr/local/lib/python3.10/dist-packages (from sentence-transformers) (9.4.0)\n",
            "Requirement already satisfied: filelock in /usr/local/lib/python3.10/dist-packages (from huggingface-hub>=0.15.1->sentence-transformers) (3.13.4)\n",
            "Requirement already satisfied: fsspec>=2023.5.0 in /usr/local/lib/python3.10/dist-packages (from huggingface-hub>=0.15.1->sentence-transformers) (2023.6.0)\n",
            "Requirement already satisfied: requests in /usr/local/lib/python3.10/dist-packages (from huggingface-hub>=0.15.1->sentence-transformers) (2.31.0)\n",
            "Requirement already satisfied: pyyaml>=5.1 in /usr/local/lib/python3.10/dist-packages (from huggingface-hub>=0.15.1->sentence-transformers) (6.0.1)\n",
            "Requirement already satisfied: typing-extensions>=3.7.4.3 in /usr/local/lib/python3.10/dist-packages (from huggingface-hub>=0.15.1->sentence-transformers) (4.11.0)\n",
            "Requirement already satisfied: packaging>=20.9 in /usr/local/lib/python3.10/dist-packages (from huggingface-hub>=0.15.1->sentence-transformers) (24.0)\n",
            "Requirement already satisfied: sympy in /usr/local/lib/python3.10/dist-packages (from torch>=1.11.0->sentence-transformers) (1.12)\n",
            "Requirement already satisfied: networkx in /usr/local/lib/python3.10/dist-packages (from torch>=1.11.0->sentence-transformers) (3.3)\n",
            "Requirement already satisfied: jinja2 in /usr/local/lib/python3.10/dist-packages (from torch>=1.11.0->sentence-transformers) (3.1.3)\n",
            "Collecting nvidia-cuda-nvrtc-cu12==12.1.105 (from torch>=1.11.0->sentence-transformers)\n",
            "  Using cached nvidia_cuda_nvrtc_cu12-12.1.105-py3-none-manylinux1_x86_64.whl (23.7 MB)\n",
            "Collecting nvidia-cuda-runtime-cu12==12.1.105 (from torch>=1.11.0->sentence-transformers)\n",
            "  Using cached nvidia_cuda_runtime_cu12-12.1.105-py3-none-manylinux1_x86_64.whl (823 kB)\n",
            "Collecting nvidia-cuda-cupti-cu12==12.1.105 (from torch>=1.11.0->sentence-transformers)\n",
            "  Using cached nvidia_cuda_cupti_cu12-12.1.105-py3-none-manylinux1_x86_64.whl (14.1 MB)\n",
            "Collecting nvidia-cudnn-cu12==8.9.2.26 (from torch>=1.11.0->sentence-transformers)\n",
            "  Using cached nvidia_cudnn_cu12-8.9.2.26-py3-none-manylinux1_x86_64.whl (731.7 MB)\n",
            "Collecting nvidia-cublas-cu12==12.1.3.1 (from torch>=1.11.0->sentence-transformers)\n",
            "  Using cached nvidia_cublas_cu12-12.1.3.1-py3-none-manylinux1_x86_64.whl (410.6 MB)\n",
            "Collecting nvidia-cufft-cu12==11.0.2.54 (from torch>=1.11.0->sentence-transformers)\n",
            "  Using cached nvidia_cufft_cu12-11.0.2.54-py3-none-manylinux1_x86_64.whl (121.6 MB)\n",
            "Collecting nvidia-curand-cu12==10.3.2.106 (from torch>=1.11.0->sentence-transformers)\n",
            "  Using cached nvidia_curand_cu12-10.3.2.106-py3-none-manylinux1_x86_64.whl (56.5 MB)\n",
            "Collecting nvidia-cusolver-cu12==11.4.5.107 (from torch>=1.11.0->sentence-transformers)\n",
            "  Using cached nvidia_cusolver_cu12-11.4.5.107-py3-none-manylinux1_x86_64.whl (124.2 MB)\n",
            "Collecting nvidia-cusparse-cu12==12.1.0.106 (from torch>=1.11.0->sentence-transformers)\n",
            "  Using cached nvidia_cusparse_cu12-12.1.0.106-py3-none-manylinux1_x86_64.whl (196.0 MB)\n",
            "Collecting nvidia-nccl-cu12==2.19.3 (from torch>=1.11.0->sentence-transformers)\n",
            "  Using cached nvidia_nccl_cu12-2.19.3-py3-none-manylinux1_x86_64.whl (166.0 MB)\n",
            "Collecting nvidia-nvtx-cu12==12.1.105 (from torch>=1.11.0->sentence-transformers)\n",
            "  Using cached nvidia_nvtx_cu12-12.1.105-py3-none-manylinux1_x86_64.whl (99 kB)\n",
            "Requirement already satisfied: triton==2.2.0 in /usr/local/lib/python3.10/dist-packages (from torch>=1.11.0->sentence-transformers) (2.2.0)\n",
            "Collecting nvidia-nvjitlink-cu12 (from nvidia-cusolver-cu12==11.4.5.107->torch>=1.11.0->sentence-transformers)\n",
            "  Using cached nvidia_nvjitlink_cu12-12.4.127-py3-none-manylinux2014_x86_64.whl (21.1 MB)\n",
            "Requirement already satisfied: regex!=2019.12.17 in /usr/local/lib/python3.10/dist-packages (from transformers<5.0.0,>=4.34.0->sentence-transformers) (2023.12.25)\n",
            "Requirement already satisfied: tokenizers<0.20,>=0.19 in /usr/local/lib/python3.10/dist-packages (from transformers<5.0.0,>=4.34.0->sentence-transformers) (0.19.1)\n",
            "Requirement already satisfied: safetensors>=0.4.1 in /usr/local/lib/python3.10/dist-packages (from transformers<5.0.0,>=4.34.0->sentence-transformers) (0.4.3)\n",
            "Requirement already satisfied: joblib>=1.1.1 in /usr/local/lib/python3.10/dist-packages (from scikit-learn->sentence-transformers) (1.4.0)\n",
            "Requirement already satisfied: threadpoolctl>=2.0.0 in /usr/local/lib/python3.10/dist-packages (from scikit-learn->sentence-transformers) (3.4.0)\n",
            "Requirement already satisfied: MarkupSafe>=2.0 in /usr/local/lib/python3.10/dist-packages (from jinja2->torch>=1.11.0->sentence-transformers) (2.1.5)\n",
            "Requirement already satisfied: charset-normalizer<4,>=2 in /usr/local/lib/python3.10/dist-packages (from requests->huggingface-hub>=0.15.1->sentence-transformers) (3.3.2)\n",
            "Requirement already satisfied: idna<4,>=2.5 in /usr/local/lib/python3.10/dist-packages (from requests->huggingface-hub>=0.15.1->sentence-transformers) (3.7)\n",
            "Requirement already satisfied: urllib3<3,>=1.21.1 in /usr/local/lib/python3.10/dist-packages (from requests->huggingface-hub>=0.15.1->sentence-transformers) (2.0.7)\n",
            "Requirement already satisfied: certifi>=2017.4.17 in /usr/local/lib/python3.10/dist-packages (from requests->huggingface-hub>=0.15.1->sentence-transformers) (2024.2.2)\n",
            "Requirement already satisfied: mpmath>=0.19 in /usr/local/lib/python3.10/dist-packages (from sympy->torch>=1.11.0->sentence-transformers) (1.3.0)\n",
            "Installing collected packages: nvidia-nvtx-cu12, nvidia-nvjitlink-cu12, nvidia-nccl-cu12, nvidia-curand-cu12, nvidia-cufft-cu12, nvidia-cuda-runtime-cu12, nvidia-cuda-nvrtc-cu12, nvidia-cuda-cupti-cu12, nvidia-cublas-cu12, nvidia-cusparse-cu12, nvidia-cudnn-cu12, nvidia-cusolver-cu12, sentence-transformers\n",
            "Successfully installed nvidia-cublas-cu12-12.1.3.1 nvidia-cuda-cupti-cu12-12.1.105 nvidia-cuda-nvrtc-cu12-12.1.105 nvidia-cuda-runtime-cu12-12.1.105 nvidia-cudnn-cu12-8.9.2.26 nvidia-cufft-cu12-11.0.2.54 nvidia-curand-cu12-10.3.2.106 nvidia-cusolver-cu12-11.4.5.107 nvidia-cusparse-cu12-12.1.0.106 nvidia-nccl-cu12-2.19.3 nvidia-nvjitlink-cu12-12.4.127 nvidia-nvtx-cu12-12.1.105 sentence-transformers-2.7.0\n"
          ]
        }
      ],
      "source": [
        "pip install -U sentence-transformers"
      ]
    },
    {
      "cell_type": "code",
      "source": [
        "class Restaurant:\n",
        "  def __init__(self, name, description, location, price):\n",
        "    self.name = name\n",
        "    self.description = description\n",
        "    self.location = location\n",
        "    self.price = price\n",
        "  def __str__(self):\n",
        "    return self.name\n",
        "  def __repr__(self):\n",
        "    return self.name"
      ],
      "metadata": {
        "id": "U6woHhd8NtlU"
      },
      "execution_count": null,
      "outputs": []
    },
    {
      "cell_type": "code",
      "source": [
        "class User:\n",
        "    def __init__(self, location, price_preference, category_preferences=None):\n",
        "        self.location = location\n",
        "        self.price_preference = price_preference\n",
        "        self.category_preferences = category_preferences\n",
        "\n",
        "    def randomize_preferences(self, categories):\n",
        "        self.category_preferences = np.random.choice(categories, 3,\n",
        "                                                     replace=False)"
      ],
      "metadata": {
        "id": "1SCIQWr_xoed"
      },
      "execution_count": null,
      "outputs": []
    },
    {
      "cell_type": "code",
      "source": [
        "from sentence_transformers import SentenceTransformer, util\n",
        "import numpy as np\n",
        "import random\n",
        "\n",
        "#Initialize our test restaurants\n",
        "names = ['Chipotle', 'Alpaca', 'Cosmic Cantina', 'Guasaca', 'Monuts',\n",
        "         'Heavenly Buffalos', 'Nothing']\n",
        "descriptions = [\"Fast-food chain offering Mexican fare, including design-your-own burritos, tacos & bowls.\",\n",
        "  \"Local counter-serve chain featuring a menu of Peruvian-style rotisserie chicken & Latin sides.\",\n",
        "  \"Organic Mexican eats plus beer & margaritas served in casual, cozy digs with very late-night hours.\",\n",
        "  \"Colorful counter-serve hub doling out custom-made arepas, bowls & salads in a chic, bright space.\",\n",
        "  \"Busy joint dispensing handmade gourmet donuts, sandwiches on house-baked bagels, coffee & beer.\",\n",
        "  \"Casual hub for chicken & vegan wings tossed in a variety of sauces at every spice level.\",\n",
        "  \"blah blah blah hey now blah.\"]\n",
        "#(latitude, longitude)\n",
        "restaurant_locations = [(36.008767, -78.944303), (36.007797, -78.922274),\n",
        " (36.0077961, -78.9218492), (36.006812, -78.924576), (36.0139103, -78.9215285),\n",
        "  (36.0066658, -78.9477924), (0,0)]\n",
        "\n",
        "restaurants = []\n",
        "\n",
        "for i in range(len(names)):\n",
        "  restaurants.append(Restaurant(names[i], descriptions[i],\n",
        "                                restaurant_locations[i], random.randint(1,4)))\n",
        "\n",
        "\n",
        "\n",
        "\n",
        "model = SentenceTransformer('sentence-transformers/all-MiniLM-L6-v2')\n"
      ],
      "metadata": {
        "id": "aBgAhUI_eNDJ"
      },
      "execution_count": null,
      "outputs": []
    },
    {
      "cell_type": "code",
      "source": [
        "#calculate similarity scores from categories and restaurants nearby\n",
        "def calc_score(restaurants, users):\n",
        "  scores = [0 for row in range(len(restaurants))]\n",
        "  #category matching\n",
        "  for user in users:\n",
        "    for category in user.category_preferences:\n",
        "      for ind, restaurant in enumerate(restaurants):\n",
        "        #embed each of the categories and the descriptions using the model\n",
        "        embedding_1= model.encode(category, convert_to_tensor=True)\n",
        "        embedding_2 = model.encode(restaurant.description,\n",
        "                                   convert_to_tensor=True)\n",
        "\n",
        "        #measure the similarity between categories and descriptions\n",
        "        #using a cosine similarity\n",
        "        score = util.pytorch_cos_sim(embedding_1, embedding_2)\n",
        "        scores[ind] += score\n",
        "\n",
        "  #location matching\n",
        "  restaurant_squared_distances=[0 for restaurant in restaurants]\n",
        "  for ind, restaurant in enumerate(restaurants):\n",
        "    for user in users:\n",
        "      long_dist = (restaurant.location[0] - user.location[0])**2\n",
        "      lat_dist = (restaurant.location[1] - user.location[1])**2\n",
        "      restaurant_squared_distances[ind] += long_dist + lat_dist\n",
        "\n",
        "  #If a restaurant is in the upper quartile of distances (far-awayness),\n",
        "  #we penalize its score\n",
        "  upper_quartile = np.percentile(restaurant_squared_distances, 75)\n",
        "  for ind in range(len(restaurant_squared_distances)):\n",
        "    if restaurant_squared_distances[ind] > upper_quartile:\n",
        "      #Penalization factor has value of\n",
        "      #(75 percentile squared distance/restaurant squared distance)\n",
        "      penalization = (upper_quartile / restaurant_squared_distances[ind])\n",
        "      scores[ind] = scores[ind]*penalization\n",
        "\n",
        "  print(restaurant_squared_distances)\n",
        "  #price matching\n",
        "  for ind, restaurant in enumerate(restaurants):\n",
        "    price_penalty = 0\n",
        "    for user in users:\n",
        "      #only penalize if price is higher than desired\n",
        "      if restaurant.price > user.price_preference:\n",
        "        price_penalty += restaurant.price - user.price_preference\n",
        "    price_penalty = price_penalty/len(users)\n",
        "    scores[ind] = scores[ind]/(1 + price_penalty)\n",
        "\n",
        "\n",
        "\n",
        "  return scores"
      ],
      "metadata": {
        "id": "Fox5lzlmsRZI"
      },
      "execution_count": null,
      "outputs": []
    },
    {
      "cell_type": "code",
      "source": [
        "#Initialize our test users\n",
        "categories = ['burgers', 'tacos', 'chinese', 'dessert', 'salads', 'bakeries', 'vegan', 'brunch',\n",
        "              'bar', 'mexican', 'chicken']\n",
        "price_preferences = [2, 1, 3, 2]\n",
        "\n",
        "#location: Duke chapel\n",
        "user1 = User(location=(36.0018681, -78.9402861),\n",
        "             price_preference=price_preferences[0])\n",
        "user1.randomize_preferences(categories)\n",
        "\n",
        "#location: Southgate (East campus)\n",
        "user2 = User(location=(36.0060313, -78.9181483),\n",
        "             price_preference=price_preferences[1])\n",
        "user2.randomize_preferences(categories)\n",
        "\n",
        "#location: Erwin Mill (on 9th street)\n",
        "user3 = User(location=(36.008782, -78.922188),\n",
        "             price_preference=price_preferences[2])\n",
        "user3.randomize_preferences(categories)\n",
        "\n",
        "#location: West Village (downtown Durham)\n",
        "user4 = User(location=(35.998501, -78.9071795),\n",
        "             price_preference=price_preferences[3])\n",
        "user4.randomize_preferences(categories)\n",
        "\n",
        "users = [user1, user2, user3, user4]\n",
        "\n",
        "scores = calc_score(restaurants, users)\n",
        "print(scores)\n",
        "best_index = np.argmax(scores)\n",
        "best_restaurant = restaurants[best_index]\n",
        "\n",
        "print(\"Optimal restaurant for the group is:\")\n",
        "print(f\"- {best_restaurant.name}: {best_restaurant.description}\")"
      ],
      "metadata": {
        "id": "BTvAga3dCN9C",
        "colab": {
          "base_uri": "https://localhost:8080/"
        },
        "outputId": "2cdab4ba-b62a-4469-9215-7ed5b39e8322"
      },
      "execution_count": null,
      "outputs": [
        {
          "output_type": "stream",
          "name": "stdout",
          "text": [
            "[0.002727901151650899, 0.0006949638658497816, 0.0006945574118098954, 0.0006944685862498458, 0.001040441260269918, 0.0033346729272895, 30099.790888040112]\n",
            "[tensor([[1.3160]]), tensor([[3.1330]]), tensor([[0.8398]]), tensor([[1.0702]]), tensor([[1.4030]]), tensor([[2.8797]]), tensor([[7.0061e-08]])]\n",
            "Optimal restaurant for the group is:\n",
            "- Alpaca: Local counter-serve chain featuring a menu of Peruvian-style rotisserie chicken & Latin sides.\n"
          ]
        }
      ]
    },
    {
      "cell_type": "code",
      "source": [
        "recommendations = [x for _,x in sorted(zip(scores,restaurants),\n",
        "                                       reverse = True)]"
      ],
      "metadata": {
        "id": "3FbgW7TRt5FH"
      },
      "execution_count": null,
      "outputs": []
    },
    {
      "cell_type": "code",
      "source": [
        "print(\"The recommendations in order is:\")\n",
        "for i in recommendations:\n",
        "  print(i)"
      ],
      "metadata": {
        "id": "5ZD3CQFnCEBo",
        "colab": {
          "base_uri": "https://localhost:8080/"
        },
        "outputId": "cd85f965-fe8f-4b13-bae2-14140f5cd1ac"
      },
      "execution_count": null,
      "outputs": [
        {
          "output_type": "stream",
          "name": "stdout",
          "text": [
            "The recommendations in order is:\n",
            "Alpaca\n",
            "Heavenly Buffalos\n",
            "Monuts\n",
            "Chipotle\n",
            "Guasaca\n",
            "Cosmic Cantina\n",
            "Nothing\n"
          ]
        }
      ]
    },
    {
      "cell_type": "code",
      "source": [
        "# Each user's price point and preferences for this run\n",
        "for user in users:\n",
        "  print(user.price_preference, user.category_preferences)"
      ],
      "metadata": {
        "id": "tx2ZtJwTPD0d",
        "colab": {
          "base_uri": "https://localhost:8080/"
        },
        "outputId": "9bf670d3-f907-4e11-fa9e-ca52b1f18cff"
      },
      "execution_count": null,
      "outputs": [
        {
          "output_type": "stream",
          "name": "stdout",
          "text": [
            "2 ['dessert' 'vegan' 'burgers']\n",
            "1 ['vegan' 'chicken' 'bar']\n",
            "3 ['chinese' 'dessert' 'bakeries']\n",
            "2 ['bakeries' 'mexican' 'chicken']\n"
          ]
        }
      ]
    },
    {
      "cell_type": "code",
      "source": [
        "scores = torch.stack(scores).squeeze()"
      ],
      "metadata": {
        "id": "wRT6cHg007pE"
      },
      "execution_count": null,
      "outputs": []
    },
    {
      "cell_type": "code",
      "source": [
        "import matplotlib.pyplot as plt\n",
        "import torch\n",
        "restaurant_names = [x.name for x in restaurants]\n",
        "plt.bar(restaurant_names, scores, width = 0.4)\n",
        "\n",
        "plt.xlabel(\"Restaurants\")\n",
        "plt.ylabel(\"Recommendation Scores\")\n",
        "plt.title(\"Recommendation Scores for Suggested Restaurants\")\n",
        "plt.xticks(fontsize = 6)\n",
        "plt.show()"
      ],
      "metadata": {
        "id": "PMqeT3LP-KZw",
        "colab": {
          "base_uri": "https://localhost:8080/",
          "height": 467
        },
        "outputId": "ae8c1b11-2381-4fa0-9487-9e75775ea524"
      },
      "execution_count": null,
      "outputs": [
        {
          "output_type": "display_data",
          "data": {
            "text/plain": [
              "<Figure size 640x480 with 1 Axes>"
            ],
            "image/png": "[encoded data removed]"
          },
          "metadata": {}
        }
      ]
    },
    {
      "cell_type": "markdown",
      "source": [
        "Second Run"
      ],
      "metadata": {
        "id": "569iRm0b3zyC"
      }
    },
    {
      "cell_type": "code",
      "source": [
        "names = ['Chipotle', 'Alpaca', 'Cosmic Cantina', 'Guasaca', 'Monuts',\n",
        "         'Heavenly Buffalos', 'Nothing']\n",
        "descriptions = [\"Fast-food chain offering Mexican fare, including design-your-own burritos, tacos & bowls.\",\n",
        "  \"Local counter-serve chain featuring a menu of Peruvian-style rotisserie chicken & Latin sides.\",\n",
        "  \"Organic Mexican eats plus beer & margaritas served in casual, cozy digs with very late-night hours.\",\n",
        "  \"Colorful counter-serve hub doling out custom-made arepas, bowls & salads in a chic, bright space.\",\n",
        "  \"Busy joint dispensing handmade gourmet donuts, sandwiches on house-baked bagels, coffee & beer.\",\n",
        "  \"Casual hub for chicken & vegan wings tossed in a variety of sauces at every spice level.\",\n",
        "  \"blah blah blah hey now blah.\"]\n",
        "\n",
        "#(latitude, longitude)\n",
        "restaurant_locations = [(36.008767, -78.944303), (36.007797, -78.922274),\n",
        " (36.0077961, -78.9218492), (36.006812, -78.924576), (36.0139103, -78.9215285),\n",
        "  (36.0066658, -78.9477924), (0,0)]\n",
        "\n",
        "restaurants = []\n",
        "\n",
        "for i in range(len(names)):\n",
        "  restaurants.append(Restaurant(names[i], descriptions[i],\n",
        "                                restaurant_locations[i], random.randint(1,4)))"
      ],
      "metadata": {
        "id": "jg4ekZO94WNU"
      },
      "execution_count": null,
      "outputs": []
    },
    {
      "cell_type": "code",
      "source": [
        "categories = ['burgers', 'tacos', 'chinese', 'dessert', 'salads',\n",
        "              'bakeries', 'vegan', 'brunch','bar', 'mexican', 'chicken']\n",
        "price_preferences = [2, 1, 3, 2]\n",
        "\n",
        "#location: Duke chapel\n",
        "user1 = User(location=(36.0018681, -78.9402861),\n",
        "             price_preference=price_preferences[0])\n",
        "user1.randomize_preferences(categories)\n",
        "\n",
        "#location: Southgate (East campus)\n",
        "user2 = User(location=(36.0060313, -78.9181483),\n",
        "             price_preference=price_preferences[1])\n",
        "user2.randomize_preferences(categories)\n",
        "\n",
        "#location: Erwin Mill (on 9th street)\n",
        "user3 = User(location=(36.008782, -78.922188),\n",
        "             price_preference=price_preferences[2])\n",
        "user3.randomize_preferences(categories)\n",
        "\n",
        "#location: West Village (downtown Durham)\n",
        "user4 = User(location=(35.998501, -78.9071795),\n",
        "             price_preference=price_preferences[3])\n",
        "user4.randomize_preferences(categories)\n",
        "\n",
        "users = [user1, user2, user3, user4]\n",
        "\n",
        "scores = calc_score(restaurants, users)\n",
        "print(scores)\n",
        "best_index = np.argmax(scores)\n",
        "best_restaurant = restaurants[best_index]\n",
        "\n",
        "print(\"Optimal restaurant for the group is:\")\n",
        "print(f\"- {best_restaurant.name}: {best_restaurant.description}\")"
      ],
      "metadata": {
        "colab": {
          "base_uri": "https://localhost:8080/"
        },
        "outputId": "daf2f0c8-9555-4411-d5eb-430535dd2832",
        "id": "dKnpj_ir3ZL1"
      },
      "execution_count": null,
      "outputs": [
        {
          "output_type": "stream",
          "name": "stdout",
          "text": [
            "[0.002727901151650899, 0.0006949638658497816, 0.0006945574118098954, 0.0006944685862498458, 0.001040441260269918, 0.0033346729272895, 30099.790888040112]\n",
            "[tensor([[2.5464]]), tensor([[1.5648]]), tensor([[0.9794]]), tensor([[1.9632]]), tensor([[3.4376]]), tensor([[0.9145]]), tensor([[1.4193e-07]])]\n",
            "Optimal restaurant for the group is:\n",
            "- Monuts: Busy joint dispensing handmade gourmet donuts, sandwiches on house-baked bagels, coffee & beer.\n"
          ]
        }
      ]
    },
    {
      "cell_type": "code",
      "source": [
        "recommendations = [x for _,x in sorted(zip(scores,restaurants),\n",
        "                                       reverse = True)]"
      ],
      "metadata": {
        "id": "tN4o0ZjS3ZL2"
      },
      "execution_count": null,
      "outputs": []
    },
    {
      "cell_type": "code",
      "source": [
        "print(\"The recommendations in order is:\")\n",
        "for i in recommendations:\n",
        "  print(i)"
      ],
      "metadata": {
        "colab": {
          "base_uri": "https://localhost:8080/"
        },
        "outputId": "176a032f-dc78-4eca-f065-feca87ff66c0",
        "id": "P7cZ7JV93ZL2"
      },
      "execution_count": null,
      "outputs": [
        {
          "output_type": "stream",
          "name": "stdout",
          "text": [
            "The recommendations in order is:\n",
            "Monuts\n",
            "Chipotle\n",
            "Guasaca\n",
            "Alpaca\n",
            "Cosmic Cantina\n",
            "Heavenly Buffalos\n",
            "Nothing\n"
          ]
        }
      ]
    },
    {
      "cell_type": "code",
      "source": [
        "# Each user's price point and preferences for this run\n",
        "for user in users:\n",
        "  print(user.price_preference, user.category_preferences)"
      ],
      "metadata": {
        "colab": {
          "base_uri": "https://localhost:8080/"
        },
        "outputId": "eadc0e5b-2959-4932-dce3-1d8500469655",
        "id": "1EnB1kTk3ZL2"
      },
      "execution_count": null,
      "outputs": [
        {
          "output_type": "stream",
          "name": "stdout",
          "text": [
            "2 ['burgers' 'chinese' 'bakeries']\n",
            "1 ['tacos' 'bakeries' 'vegan']\n",
            "3 ['salads' 'burgers' 'dessert']\n",
            "2 ['brunch' 'bar' 'mexican']\n"
          ]
        }
      ]
    },
    {
      "cell_type": "code",
      "source": [
        "scores = torch.stack(scores).squeeze()"
      ],
      "metadata": {
        "id": "jUTIKsVc3ZL2"
      },
      "execution_count": null,
      "outputs": []
    },
    {
      "cell_type": "code",
      "source": [
        "import matplotlib.pyplot as plt\n",
        "import torch\n",
        "restaurant_names = [x.name for x in restaurants]\n",
        "plt.bar(restaurant_names, scores, width = 0.4)\n",
        "\n",
        "plt.xlabel(\"Restaurants\")\n",
        "plt.ylabel(\"Recommendation Scores\")\n",
        "plt.title(\"Recommendation Scores for Suggested Restaurants\")\n",
        "plt.xticks(fontsize = 6)\n",
        "plt.show()"
      ],
      "metadata": {
        "colab": {
          "base_uri": "https://localhost:8080/",
          "height": 467
        },
        "outputId": "534dc46c-3ec9-4ca5-e325-c5c69d772f77",
        "id": "wR56GHRM3ZL2"
      },
      "execution_count": null,
      "outputs": [
        {
          "output_type": "display_data",
          "data": {
            "text/plain": [
              "<Figure size 640x480 with 1 Axes>"
            ],
            "image/png": "[encoded data removed]"
          },
          "metadata": {}
        }
      ]
    }
  ]
}